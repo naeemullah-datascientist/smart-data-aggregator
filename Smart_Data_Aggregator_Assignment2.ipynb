{
  "nbformat": 4,
  "nbformat_minor": 0,
  "metadata": {
    "colab": {
      "provenance": []
    },
    "kernelspec": {
      "name": "python3",
      "display_name": "Python 3"
    },
    "language_info": {
      "name": "python"
    }
  },
  "cells": [
    {
      "cell_type": "markdown",
      "source": [
        "# **# Smart Data Aggregator Assignment**\n",
        "\n",
        "## Overview\n",
        "In this assignment, we will develop different modules for a Smart Data Aggregator tool that manages and analyzes large sets of user data. This notebook focuses on user data processing using Python's built-in data structures.\n",
        "\n",
        "\n"
      ],
      "metadata": {
        "id": "er7K4YREB-zk"
      }
    },
    {
      "cell_type": "markdown",
      "source": [
        "# **## Part 1: User Data Processing with Lists**\n",
        "In this section, we will work with a sample list of user data, where each user is represented as a tuple containing their ID, name, age, and country. The primary goals of this part are to filter out users based on age and country, sort the list of users by age, and identify any duplicate names within the dataset.\n",
        "\n",
        "**Sample User Data**:\n",
        "This dataset consists of various users, including their respective user IDs, names, ages, and countries. We will use this data to demonstrate data processing techniques, such as filtering, sorting, and duplicate detection."
      ],
      "metadata": {
        "id": "pbwgiU2RClmC"
      }
    },
    {
      "cell_type": "code",
      "source": [
        "# Sample data: (user_id, user_name, age, country)\n",
        "users = [\n",
        "    (1, \"Alice\", 29, \"USA\"),\n",
        "    (2, \"Bob\", 34, \"Canada\"),\n",
        "    (3, \"Charlie\", 28, \"UK\"),\n",
        "    (4, \"David\", 31, \"USA\"),\n",
        "    (5, \"Eva\", 27, \"Canada\"),\n",
        "    (6, \"Frank\", 40, \"USA\"),\n",
        "    (7, \"Grace\", 35, \"Canada\"),\n",
        "    (8, \"Hannah\", 22, \"USA\"),\n",
        "    (9, \"Ivan\", 30, \"USA\"),\n",
        "    (10, \"Judy\", 32, \"Canada\"),\n",
        "    (11, \"Charlie\", 45, \"Canada\"),\n",
        "]\n"
      ],
      "metadata": {
        "id": "-9PhC6nYCnMy"
      },
      "execution_count": 4,
      "outputs": []
    },
    {
      "cell_type": "markdown",
      "source": [
        "## 1.1 Function to Filter Users\n",
        "\n",
        "This function filters out users who are older than 30 years from specific countries (USA and Canada). It returns a list of their names.\n",
        "\n",
        "**The function works by:**\n",
        "\n",
        "- Iterating over the list of users.\n",
        "- Checking if the user's age is greater than 30 and if they belong to either the USA or Canada.\n",
        "- Collecting the names of the users who meet these criteria.\n"
      ],
      "metadata": {
        "id": "khNZ5m4zDe9G"
      }
    },
    {
      "cell_type": "code",
      "source": [
        "def filter_users(users):\n",
        "    filtered_names = [user[1] for user in users if user[2] > 30 and user[3] in ('USA', 'Canada')]\n",
        "    return filtered_names\n"
      ],
      "metadata": {
        "id": "gUX_ocOXD0T5"
      },
      "execution_count": 5,
      "outputs": []
    },
    {
      "cell_type": "markdown",
      "source": [
        "## 1.2 Function to Sort Users and Find Duplicates\n",
        "\n",
        "This function sorts the users by age in descending order and identifies any duplicate names within the dataset. It returns:\n",
        "- A list of the top 10 oldest users.\n",
        "- A set of duplicate names.\n",
        "\n",
        "The sorting is done based on the age attribute of each user. Duplicate names are found by checking if the name appears more than once in the user list.\n"
      ],
      "metadata": {
        "id": "1aAoPDU4D8Bo"
      }
    },
    {
      "cell_type": "code",
      "source": [
        "def sort_users_and_find_duplicates(users):\n",
        "    sorted_users = sorted(users, key=lambda x: x[2], reverse=True)\n",
        "    top_10_oldest = sorted_users[:10]\n",
        "    names = [user[1] for user in users]\n",
        "    duplicates = set(name for name in names if names.count(name) > 1)\n",
        "\n",
        "    return top_10_oldest, duplicates\n"
      ],
      "metadata": {
        "id": "HBwqbvG0EGYC"
      },
      "execution_count": 8,
      "outputs": []
    },
    {
      "cell_type": "markdown",
      "source": [
        "**### Execution of Functions**\n",
        "\n",
        "Now, we will execute the functions we defined earlier to filter users and sort them, as well as to find duplicates in the dataset.\n"
      ],
      "metadata": {
        "id": "suvHzil3ERKR"
      }
    },
    {
      "cell_type": "code",
      "source": [
        "filtered_user_names = filter_users(users)\n",
        "print(\"Users older than 30 from USA or Canada:\", filtered_user_names)\n",
        "top_old_users, duplicate_names = sort_users_and_find_duplicates(users)\n",
        "print(\"Top 10 oldest users:\", top_old_users)\n",
        "print(\"Duplicate names:\", duplicate_names)\n"
      ],
      "metadata": {
        "colab": {
          "base_uri": "https://localhost:8080/"
        },
        "id": "51BxYhteEVnc",
        "outputId": "57659477-1b8f-4a9e-b509-d9009b0b8d3f"
      },
      "execution_count": 7,
      "outputs": [
        {
          "output_type": "stream",
          "name": "stdout",
          "text": [
            "Users older than 30 from USA or Canada: ['Bob', 'David', 'Frank', 'Grace', 'Judy', 'Charlie']\n",
            "Top 10 oldest users: [(11, 'Charlie', 45, 'Canada'), (6, 'Frank', 40, 'USA'), (7, 'Grace', 35, 'Canada'), (2, 'Bob', 34, 'Canada'), (10, 'Judy', 32, 'Canada'), (4, 'David', 31, 'USA'), (9, 'Ivan', 30, 'USA'), (1, 'Alice', 29, 'USA'), (3, 'Charlie', 28, 'UK'), (5, 'Eva', 27, 'Canada')]\n",
            "Duplicate names: {'Charlie'}\n"
          ]
        }
      ]
    },
    {
      "cell_type": "markdown",
      "source": [
        "# **Part 2: Immutable Data Management with Tuples**\n",
        "\n",
        "In this section, we will work with sample transaction data represented as tuples. The primary goals of this part are to count unique users, find the highest transaction amount, and separate transaction IDs from user IDs.\n",
        "\n",
        "## 2.1 Set Up the Transaction Data\n",
        "\n",
        "We will create a sample dataset that includes various transactions. Each transaction is represented as a tuple containing the transaction ID, user ID, amount, and timestamp.\n",
        "\n"
      ],
      "metadata": {
        "id": "UqhCjj0mFV_m"
      }
    },
    {
      "cell_type": "code",
      "source": [
        "# Sample transaction data: (transaction_id, user_id, amount, timestamp)\n",
        "transactions = [\n",
        "    (1, 1, 100.50, \"2024-10-01 10:00:00\"),\n",
        "    (2, 2, 200.00, \"2024-10-02 11:00:00\"),\n",
        "    (3, 3, 150.75, \"2024-10-01 10:30:00\"),\n",
        "    (4, 1, 50.25, \"2024-10-03 12:00:00\"),\n",
        "    (5, 4, 300.00, \"2024-10-01 09:00:00\"),\n",
        "]\n"
      ],
      "metadata": {
        "id": "hhQj_LPfJH_H"
      },
      "execution_count": 9,
      "outputs": []
    },
    {
      "cell_type": "markdown",
      "source": [
        "## 2.2 Function to Count Unique Users\n",
        "\n",
        "In this section, we will define a function called `count_unique_users` that calculates the total number of unique users based on their user IDs in the transaction data.\n",
        "\n",
        "The function works as follows:\n",
        "- It uses a generator expression to iterate over each transaction in the `transactions` list and extract the user ID (the second element of each tuple).\n",
        "- These user IDs are collected into a set, which only keeps unique values.\n",
        "- Finally, we return the length of the set, representing the count of unique users.\n",
        "\n"
      ],
      "metadata": {
        "id": "nt8vVdZhGHSp"
      }
    },
    {
      "cell_type": "code",
      "source": [
        "def count_unique_users(transactions):\n",
        "    unique_users = set(transaction[1] for transaction in transactions)\n",
        "    return len(unique_users)\n",
        "unique_user_count = count_unique_users(transactions)\n",
        "print(\"Total unique users in transactions:\", unique_user_count)\n"
      ],
      "metadata": {
        "colab": {
          "base_uri": "https://localhost:8080/"
        },
        "id": "dMILAYe4JNm7",
        "outputId": "0fb97b13-54fa-4739-cf14-c67f7b8f58b3"
      },
      "execution_count": 10,
      "outputs": [
        {
          "output_type": "stream",
          "name": "stdout",
          "text": [
            "Total unique users in transactions: 4\n"
          ]
        }
      ]
    },
    {
      "cell_type": "markdown",
      "source": [
        "## 2.3 Function to Find the Highest Transaction\n",
        "\n",
        "In this section, we will define a function called `highest_transaction` that identifies the transaction with the highest amount. This function will help us quickly find which transaction had the largest value.\n",
        "\n",
        "The function works as follows:\n",
        "- We use the built-in `max` function to search through the `transactions` list.\n",
        "- The `key` argument of the `max` function allows us to specify that we want to compare transactions based on the amount (the third element of each tuple).\n",
        "- The function returns the transaction tuple that has the highest amount.\n"
      ],
      "metadata": {
        "id": "dfnNb5g_Gfi-"
      }
    },
    {
      "cell_type": "code",
      "source": [
        "def highest_transaction(transactions):\n",
        "    highest = max(transactions, key=lambda x: x[2])\n",
        "    return highest\n",
        "highest_trans = highest_transaction(transactions)\n",
        "print(\"Highest transaction:\", highest_trans)"
      ],
      "metadata": {
        "colab": {
          "base_uri": "https://localhost:8080/"
        },
        "id": "E0hObolsJWHX",
        "outputId": "c434d298-5528-4e2f-f4cc-84ad5e114ab9"
      },
      "execution_count": 11,
      "outputs": [
        {
          "output_type": "stream",
          "name": "stdout",
          "text": [
            "Highest transaction: (5, 4, 300.0, '2024-10-01 09:00:00')\n"
          ]
        }
      ]
    },
    {
      "cell_type": "markdown",
      "source": [
        "## 2.4 Function to Separate Transaction IDs and User IDs\n",
        "\n",
        "In this section, we will create a function called `separate_ids` that separates the transaction IDs from the user IDs in our transaction data.\n",
        "\n",
        "The function works as follows:\n",
        "- We use a list comprehension to create a list of transaction IDs. We get the first element (transaction ID) from each tuple in the `transactions` list.\n",
        "- Similarly, we create another list of user IDs by extracting the second element (user ID) from each tuple.\n",
        "- Finally, the function returns both lists: one for transaction IDs and one for user IDs.\n",
        "\n"
      ],
      "metadata": {
        "id": "zE2jNnR0H5cu"
      }
    },
    {
      "cell_type": "code",
      "source": [
        "def separate_ids(transactions):\n",
        "    transaction_ids = [transaction[0] for transaction in transactions]\n",
        "    user_ids = [transaction[1] for transaction in transactions]\n",
        "    return transaction_ids, user_ids\n",
        "\n",
        "trans_ids, user_ids = separate_ids(transactions)\n",
        "print(\"Transaction IDs:\", trans_ids)\n",
        "print(\"User IDs:\", user_ids)\n"
      ],
      "metadata": {
        "colab": {
          "base_uri": "https://localhost:8080/"
        },
        "id": "XKtfB5LNH-Mr",
        "outputId": "3f241acb-1976-4410-8830-44dcc93cc93a"
      },
      "execution_count": 24,
      "outputs": [
        {
          "output_type": "stream",
          "name": "stdout",
          "text": [
            "Transaction IDs: [1, 2, 3, 4, 5]\n",
            "User IDs: [1, 2, 3, 1, 4]\n"
          ]
        }
      ]
    },
    {
      "cell_type": "markdown",
      "source": [
        "# **Part 3: Unique Data Handling with Sets**\n",
        "\n",
        "In this section, we will work with sets to manage unique user IDs who visited different pages. We will perform operations to find common users, exclusive users, and update user sets accordingly.\n",
        "\n"
      ],
      "metadata": {
        "id": "5aro-MAKKZ4a"
      }
    },
    {
      "cell_type": "markdown",
      "source": [
        "## 3.1 Set Up User ID Sets\n",
        "\n",
        "We will create three sets representing user IDs of visitors to pages A, B, and C. Each set will contain unique user IDs.\n"
      ],
      "metadata": {
        "id": "whVj7oaHKex4"
      }
    },
    {
      "cell_type": "code",
      "source": [
        "# Sample User ID Sets\n",
        "page_a_visitors = {1, 2, 3, 4, 5}  # User IDs who visited Page A\n",
        "page_b_visitors = {3, 4, 5, 6, 7}  # User IDs who visited Page B\n",
        "page_c_visitors = {5, 6, 7, 8, 9}  # User IDs who visited Page C"
      ],
      "metadata": {
        "id": "k7bF2BvSKol5"
      },
      "execution_count": 13,
      "outputs": []
    },
    {
      "cell_type": "markdown",
      "source": [
        "## 3.2 Function to Find Users Who Visited Page A and Page B\n",
        "\n",
        "This function will return the user IDs that are present in both sets, indicating users who visited both pages."
      ],
      "metadata": {
        "id": "iqtUU9LIKzKb"
      }
    },
    {
      "cell_type": "code",
      "source": [
        "def users_visited_both(page_a, page_b):\n",
        "    return page_a.intersection(page_b)\n",
        "common_visitors = users_visited_both(page_a_visitors, page_b_visitors)\n",
        "print(\"Users who visited both Page A and Page B:\", common_visitors)\n"
      ],
      "metadata": {
        "colab": {
          "base_uri": "https://localhost:8080/"
        },
        "id": "XvNkoZoZLBAc",
        "outputId": "0cc428ed-db4a-4283-eee2-762a2c599ae6"
      },
      "execution_count": 14,
      "outputs": [
        {
          "output_type": "stream",
          "name": "stdout",
          "text": [
            "Users who visited both Page A and Page B: {3, 4, 5}\n"
          ]
        }
      ]
    },
    {
      "cell_type": "markdown",
      "source": [
        "## 3.3 Function to Find Users Who Visited Either Page A or Page C, but Not Both\n",
        "\n",
        "This function will return the user IDs that are in either Page A or Page C but not in both sets."
      ],
      "metadata": {
        "id": "scwz1BibLK6o"
      }
    },
    {
      "cell_type": "code",
      "source": [
        "def users_visited_either_not_both(page_a, page_c):\n",
        "    return page_a.symmetric_difference(page_c)\n",
        "\n",
        "exclusive_visitors = users_visited_either_not_both(page_a_visitors, page_c_visitors)\n",
        "print(\"Users who visited either Page A or Page C, but not both:\", exclusive_visitors)\n"
      ],
      "metadata": {
        "colab": {
          "base_uri": "https://localhost:8080/"
        },
        "id": "BA-QCz2aLSnH",
        "outputId": "77c05949-afa3-4293-871b-69fff38c4465"
      },
      "execution_count": 15,
      "outputs": [
        {
          "output_type": "stream",
          "name": "stdout",
          "text": [
            "Users who visited either Page A or Page C, but not both: {1, 2, 3, 4, 6, 7, 8, 9}\n"
          ]
        }
      ]
    },
    {
      "cell_type": "markdown",
      "source": [
        "## 3.4 Function to Update Page A Set with New User IDs\n",
        "This function will add new user IDs to the set for Page A."
      ],
      "metadata": {
        "id": "cGsgE8hmLXvK"
      }
    },
    {
      "cell_type": "code",
      "source": [
        "def update_page_a(page_a, new_users):\n",
        "    page_a.update(new_users)\n",
        "\n",
        "new_visitors = {10, 11}\n",
        "update_page_a(page_a_visitors, new_visitors)\n",
        "print(\"Updated Page A visitors:\", page_a_visitors)\n"
      ],
      "metadata": {
        "colab": {
          "base_uri": "https://localhost:8080/"
        },
        "id": "H8EqBoxXLYRD",
        "outputId": "5b1c04b9-1dd9-4302-ae7c-15e4016d886e"
      },
      "execution_count": 16,
      "outputs": [
        {
          "output_type": "stream",
          "name": "stdout",
          "text": [
            "Updated Page A visitors: {1, 2, 3, 4, 5, 10, 11}\n"
          ]
        }
      ]
    },
    {
      "cell_type": "markdown",
      "source": [
        "## 3.5 Function to Remove User IDs from Page B Set\n",
        "This function will remove specified user IDs from the set for Page B.\n"
      ],
      "metadata": {
        "id": "tvXvfDtlLYu9"
      }
    },
    {
      "cell_type": "code",
      "source": [
        "def remove_from_page_b(page_b, users_to_remove):\n",
        "    page_b.difference_update(users_to_remove)\n",
        "\n",
        "users_to_remove = {3, 4}\n",
        "remove_from_page_b(page_b_visitors, users_to_remove)\n",
        "print(\"Updated Page B visitors after removal:\", page_b_visitors)\n"
      ],
      "metadata": {
        "colab": {
          "base_uri": "https://localhost:8080/"
        },
        "id": "llwT6QbpLZg4",
        "outputId": "193ed5c4-9987-4e0f-e423-7ae2b88795a9"
      },
      "execution_count": 17,
      "outputs": [
        {
          "output_type": "stream",
          "name": "stdout",
          "text": [
            "Updated Page B visitors after removal: {5, 6, 7}\n"
          ]
        }
      ]
    },
    {
      "cell_type": "markdown",
      "source": [
        "# **Part 4: Data Aggregation with Dictionaries**\n",
        "\n",
        "In this section, we will work with a dictionary to manage user feedback. Each entry in the dictionary will use the user ID as a key, and the value will be another dictionary containing feedback details, including the rating and comments. We will perform operations to filter and sort this data.\n",
        "\n"
      ],
      "metadata": {
        "id": "fm96FKpwMDWb"
      }
    },
    {
      "cell_type": "markdown",
      "source": [
        "## 4.1 Set Up User Feedback Data\n",
        "\n",
        "We will create a sample dictionary to represent user feedback. Each key will be a user ID, and the corresponding value will be a nested dictionary containing a rating and comments.\n"
      ],
      "metadata": {
        "id": "XddAdltjMMIY"
      }
    },
    {
      "cell_type": "code",
      "source": [
        "# user feedback data\n",
        "user_feedback = {\n",
        "    1: {'rating': 5, 'comments': \"Excellent service!\"},\n",
        "    2: {'rating': 3, 'comments': \"It was okay.\"},\n",
        "    3: {'rating': 4, 'comments': \"Very good experience.\"},\n",
        "    4: {'rating': 2, 'comments': \"Not satisfied.\"},\n",
        "    5: {'rating': 4, 'comments': \"Good value for money.\"},\n",
        "    6: {'rating': 5, 'comments': \"Outstanding support!\"},\n",
        "    7: {'rating': 1, 'comments': \"Terrible experience.\"},\n",
        "    8: {'rating': 4, 'comments': \"I liked it a lot.\"},\n",
        "    9: {'rating': 3, 'comments': \"Average quality.\"},\n",
        "    10: {'rating': 5, 'comments': \"Will come back again!\"}\n",
        "}\n"
      ],
      "metadata": {
        "id": "UNS061puLx0b"
      },
      "execution_count": 18,
      "outputs": []
    },
    {
      "cell_type": "markdown",
      "source": [
        "## 4.2 Function to Filter Users with Ratings of 4 or Higher\n",
        "This function will create a new dictionary containing user IDs and their ratings for users who rated 4 or higher."
      ],
      "metadata": {
        "id": "2YGD9o4oMEI7"
      }
    },
    {
      "cell_type": "code",
      "source": [
        "def filter_high_ratings(feedback):\n",
        "    high_rated_users = {user_id: details['rating'] for user_id, details in feedback.items() if details['rating'] >= 4}\n",
        "    return high_rated_users\n",
        "high_rating_users = filter_high_ratings(user_feedback)\n",
        "print(\"Users who rated 4 or higher:\", high_rating_users)\n"
      ],
      "metadata": {
        "colab": {
          "base_uri": "https://localhost:8080/"
        },
        "id": "ZetvyQQtMEob",
        "outputId": "aab1c84a-d123-444d-ddd6-37840ea367bf"
      },
      "execution_count": 19,
      "outputs": [
        {
          "output_type": "stream",
          "name": "stdout",
          "text": [
            "Users who rated 4 or higher: {1: 5, 3: 4, 5: 4, 6: 5, 8: 4, 10: 5}\n"
          ]
        }
      ]
    },
    {
      "cell_type": "markdown",
      "source": [
        "## 4.3 Function to Sort User Feedback by Rating\n",
        "This function will sort the original dictionary of user feedback by rating in descending order and return the top 5 users."
      ],
      "metadata": {
        "id": "23islvTiMbzg"
      }
    },
    {
      "cell_type": "code",
      "source": [
        "def top_rated_users(feedback, top_n=5):\n",
        "    sorted_users = sorted(feedback.items(), key=lambda x: x[1]['rating'], reverse=True)\n",
        "    return dict(sorted_users[:top_n])\n",
        "\n",
        "\n",
        "top_users = top_rated_users(user_feedback)\n",
        "print(\"Top 5 users by rating:\", top_users)\n"
      ],
      "metadata": {
        "colab": {
          "base_uri": "https://localhost:8080/"
        },
        "id": "WH3vN2LWMcQr",
        "outputId": "62ad64b5-9a3f-4b0d-93de-cc94f8ead21f"
      },
      "execution_count": 20,
      "outputs": [
        {
          "output_type": "stream",
          "name": "stdout",
          "text": [
            "Top 5 users by rating: {1: {'rating': 5, 'comments': 'Excellent service!'}, 6: {'rating': 5, 'comments': 'Outstanding support!'}, 10: {'rating': 5, 'comments': 'Will come back again!'}, 3: {'rating': 4, 'comments': 'Very good experience.'}, 5: {'rating': 4, 'comments': 'Good value for money.'}}\n"
          ]
        }
      ]
    },
    {
      "cell_type": "markdown",
      "source": [
        "### Sample Feedback Data\n",
        "\n",
        "We will define two sample dictionaries representing user feedback from different sources.\n",
        "\n"
      ],
      "metadata": {
        "id": "Y0Ev9LCBNWRd"
      }
    },
    {
      "cell_type": "code",
      "source": [
        "# Sample user feedback data from different sources\n",
        "feedback_source1 = {\n",
        "    1: {'rating': 5, 'comments': \"Excellent service!\"},\n",
        "    2: {'rating': 3, 'comments': \"It was okay.\"},\n",
        "    3: {'rating': 4, 'comments': \"Very good experience.\"}\n",
        "}\n",
        "\n",
        "feedback_source2 = {\n",
        "    2: {'rating': 4, 'comments': \"Great improvement.\"},\n",
        "    3: {'rating': 2, 'comments': \"Not satisfied.\"},\n",
        "    4: {'rating': 5, 'comments': \"Outstanding service!\"}\n",
        "}\n"
      ],
      "metadata": {
        "id": "oMipwTzaMloD"
      },
      "execution_count": 21,
      "outputs": []
    },
    {
      "cell_type": "markdown",
      "source": [
        "## 4.4 Combine Feedback from Multiple Dictionaries\n",
        "\n",
        "In this section, we will create a function that combines user feedback from multiple dictionaries. If a user appears in more than one dictionary, we will update their rating to the highest one and append their comments.\n",
        "\n"
      ],
      "metadata": {
        "id": "HbPn8irQN1kp"
      }
    },
    {
      "cell_type": "code",
      "source": [
        "def combine_feedback(*feedback_dicts):\n",
        "    combined_feedback = {}\n",
        "\n",
        "    for feedback in feedback_dicts:\n",
        "        for user_id, details in feedback.items():\n",
        "            if user_id in combined_feedback:\n",
        "                combined_feedback[user_id]['rating'] = max(combined_feedback[user_id]['rating'], details['rating'])\n",
        "                combined_feedback[user_id]['comments'].append(details['comments'])\n",
        "            else:\n",
        "                combined_feedback[user_id] = {\n",
        "                    'rating': details['rating'],\n",
        "                    'comments': [details['comments']]\n",
        "                }\n",
        "\n",
        "    return combined_feedback\n",
        "\n",
        "combined_feedback = combine_feedback(feedback_source1, feedback_source2)\n",
        "print(\"Combined Feedback:\", combined_feedback)\n"
      ],
      "metadata": {
        "colab": {
          "base_uri": "https://localhost:8080/"
        },
        "id": "2a1avl1GNs04",
        "outputId": "add1fb6d-38f6-4af8-b3f9-aa7e0aec4e11"
      },
      "execution_count": 22,
      "outputs": [
        {
          "output_type": "stream",
          "name": "stdout",
          "text": [
            "Combined Feedback: {1: {'rating': 5, 'comments': ['Excellent service!']}, 2: {'rating': 4, 'comments': ['It was okay.', 'Great improvement.']}, 3: {'rating': 4, 'comments': ['Very good experience.', 'Not satisfied.']}, 4: {'rating': 5, 'comments': ['Outstanding service!']}}\n"
          ]
        }
      ]
    },
    {
      "cell_type": "markdown",
      "source": [
        "## 4.5 Filter Users with Ratings Greater than 3\n",
        "We will use dictionary comprehension to create a new dictionary containing user IDs and their ratings for users whose ratings are greater than 3."
      ],
      "metadata": {
        "id": "oh8bCv3pNg_W"
      }
    },
    {
      "cell_type": "code",
      "source": [
        "def filter_users_above_rating(feedback, min_rating=3):\n",
        "    return {user_id: details['rating'] for user_id, details in feedback.items() if details['rating'] > min_rating}\n",
        "\n",
        "users_above_rating = filter_users_above_rating(combined_feedback)\n",
        "print(\"Users with ratings greater than 3:\", users_above_rating)\n"
      ],
      "metadata": {
        "colab": {
          "base_uri": "https://localhost:8080/"
        },
        "id": "AZ17BMWiNgUe",
        "outputId": "bcaa23f1-25d6-4670-fbe4-d6ec3bf3e7f6"
      },
      "execution_count": 23,
      "outputs": [
        {
          "output_type": "stream",
          "name": "stdout",
          "text": [
            "Users with ratings greater than 3: {1: 5, 2: 4, 3: 4, 4: 5}\n"
          ]
        }
      ]
    }
  ]
}